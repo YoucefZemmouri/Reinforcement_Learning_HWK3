{
 "cells": [
  {
   "cell_type": "code",
   "execution_count": 8,
   "metadata": {
    "collapsed": true
   },
   "outputs": [],
   "source": [
    "import numpy as np\n",
    "import lqg1d\n",
    "import matplotlib.pyplot as plt\n",
    "import utils"
   ]
  },
  {
   "cell_type": "markdown",
   "metadata": {},
   "source": [
    "### Experiments parameters"
   ]
  },
  {
   "cell_type": "code",
   "execution_count": 9,
   "metadata": {
    "collapsed": true
   },
   "outputs": [],
   "source": [
    "# We will collect N trajectories per iteration\n",
    "N = 100\n",
    "# Each trajectory will have at most T time steps\n",
    "T = 100\n",
    "# Number of policy parameters updates\n",
    "n_itr = 100\n",
    "# Set the discount factor for the problem\n",
    "discount = 0.9\n",
    "# Learning rate for the gradient update\n",
    "learning_rate = 0.0001"
   ]
  },
  {
   "cell_type": "markdown",
   "metadata": {},
   "source": [
    "### Update Rule"
   ]
  },
  {
   "cell_type": "code",
   "execution_count": 10,
   "metadata": {},
   "outputs": [],
   "source": [
    "class ConstantStep(object):\n",
    "    def __init__(self, learning_rate):\n",
    "        self.learning_rate = learning_rate\n",
    "\n",
    "    def update(self, gt):\n",
    "        return self.learning_rate * gt\n",
    "\n",
    "\n",
    "class AdamStep(object):\n",
    "    def __init__(self, beta1=0.9, beta2=0.999, epsilon=10 ** (-8), alpha=0.1):\n",
    "        self.m = 0\n",
    "        self.v = 0\n",
    "        self.beta1 = beta1\n",
    "        self.beta2 = beta2\n",
    "        self.epsilon = epsilon\n",
    "        self.alpha = alpha\n",
    "\n",
    "    def update(self, gt, t):\n",
    "        self.m = self.beta1 * self.m + (1 - self.beta1) * gt\n",
    "        self.v = self.beta2 * self.v + (1 - self.beta2) * (gt ** 2)\n",
    "        m_ = self.m / (1 - self.beta1 ** t)\n",
    "        v_ = self.v / (1 - self.beta2 ** t)\n",
    "        return self.alpha * m_ / (v_ ** 0.5 + self.epsilon)"
   ]
  },
  {
   "cell_type": "code",
   "execution_count": 11,
   "metadata": {},
   "outputs": [
    {
     "name": "stdout",
     "output_type": "stream",
     "text": [
      "0\n",
      "10\n",
      "20\n",
      "30\n",
      "40\n",
      "50\n",
      "60\n",
      "70\n",
      "80\n",
      "90\n",
      "99\n"
     ]
    }
   ],
   "source": [
    "class Policy:\n",
    "    def __init__(self, sigma, theta):\n",
    "        self.sigma = sigma\n",
    "        self.theta = theta\n",
    "\n",
    "    def draw_action(self, s):\n",
    "        return np.random.normal(self.theta * s, self.sigma)\n",
    "    \n",
    "\n",
    "env = lqg1d.LQG1D(initial_state_type='random')\n",
    "policy = Policy(0.5, 0)\n",
    "stepper = ConstantStep(learning_rate)\n",
    "stepperAdam = AdamStep()\n",
    "\n",
    "\n",
    "mean_parameters = []\n",
    "avg_return = []\n",
    "for i in range(n_itr):\n",
    "    if (i%10 ==0 or i ==n_itr-1):\n",
    "        print(i)\n",
    "    paths = utils.collect_episodes(env, policy=policy, horizon=T, n_episodes=N)\n",
    "\n",
    "    gradJ_MC = 0.\n",
    "    reward_MC = 0.\n",
    "    for n in range(N):\n",
    "        reward = 0.\n",
    "        gradLogPi = 0.\n",
    "        for t in range(T):\n",
    "            a = paths[n]['actions'][t]\n",
    "            s = paths[n]['states'][t]\n",
    "            r = paths[n]['rewards'][t]\n",
    "            gradLogPi = (a-s*policy.theta)*s/(policy.sigma ** 2)\n",
    "            reward += r * (discount ** t)\n",
    "        gradJ = reward * gradLogPi\n",
    "        gradJ_MC += gradJ\n",
    "        reward_MC += reward\n",
    "\n",
    "    gradJ_MC = gradJ_MC / N\n",
    "    reward_MC = reward_MC / N\n",
    "\n",
    "    policy.theta += stepper.update(gradJ_MC)\n",
    "    mean_parameters.append(np.asscalar(policy.theta))\n",
    "    avg_return.append(reward_MC)"
   ]
  },
  {
   "cell_type": "code",
   "execution_count": 12,
   "metadata": {},
   "outputs": [
    {
     "data": {
      "image/png": "[encoded data removed]",
      "text/plain": [
       "<matplotlib.figure.Figure at 0x22e08334470>"
      ]
     },
     "metadata": {},
     "output_type": "display_data"
    }
   ],
   "source": [
    "plt.figure()\n",
    "plt.plot(avg_return)\n",
    "plt.show()"
   ]
  },
  {
   "cell_type": "code",
   "execution_count": 13,
   "metadata": {},
   "outputs": [
    {
     "data": {
      "image/png": "[encoded data removed]",
      "text/plain": [
       "<matplotlib.figure.Figure at 0x22e083349b0>"
      ]
     },
     "metadata": {},
     "output_type": "display_data"
    }
   ],
   "source": [
    "plt.figure()\n",
    "plt.plot(mean_parameters)\n",
    "plt.show()"
   ]
  },
  {
   "cell_type": "code",
   "execution_count": 14,
   "metadata": {},
   "outputs": [
    {
     "data": {
      "text/plain": [
       "[-0.010339971997660116,\n",
       " -0.00691928685919019,\n",
       " -0.021294459955587493,\n",
       " -0.024048581214322625,\n",
       " -0.0225074929990342,\n",
       " -0.013133622786123842,\n",
       " -0.049435249203894686,\n",
       " -0.04677532493983648,\n",
       " -0.04775408650850861,\n",
       " -0.05264042212677923,\n",
       " -0.05063323065595063,\n",
       " -0.05453854334980393,\n",
       " -0.05637585865560437,\n",
       " -0.05516235118188228,\n",
       " -0.05294066276558031,\n",
       " -0.048079536369472,\n",
       " -0.05303097020544867,\n",
       " -0.05659194665087275,\n",
       " -0.061444080478895394,\n",
       " -0.05662555778911218,\n",
       " -0.05872825476816811,\n",
       " -0.05751620501700257,\n",
       " -0.0550842097715158,\n",
       " -0.0537532631683676,\n",
       " -0.05613686983494343,\n",
       " -0.05379995032275056,\n",
       " -0.058742345621358445,\n",
       " -0.061233438065576795,\n",
       " -0.06152713185136343,\n",
       " -0.06067658050731168,\n",
       " -0.062375544790971245,\n",
       " -0.06384628791774932,\n",
       " -0.06226158766383219,\n",
       " -0.06349846013988027,\n",
       " -0.05795820399302202,\n",
       " -0.05687491339399074,\n",
       " -0.05743727348994585,\n",
       " -0.06233593604900146,\n",
       " -0.05928936592870748,\n",
       " -0.056808491754882534,\n",
       " -0.05584321926013149,\n",
       " -0.05242033594024999,\n",
       " -0.052055416076628516,\n",
       " -0.04438072308705886,\n",
       " -0.03764012792184198,\n",
       " -0.0423410429932943,\n",
       " -0.04278151481670093,\n",
       " -0.04172440312885672,\n",
       " -0.04072999956221721,\n",
       " -0.04333174787293072,\n",
       " -0.03942412787867343,\n",
       " -0.033103883929843606,\n",
       " -0.023282224617293477,\n",
       " -0.028152532245181237,\n",
       " -0.017862084175766027,\n",
       " -0.022043081944747113,\n",
       " -0.0034738790451503097,\n",
       " -0.005168429833404332,\n",
       " 0.027270225516430657,\n",
       " 0.6518388428264161,\n",
       " 3053.7746048249637,\n",
       " -28380.255428665074,\n",
       " -35003.982145006084,\n",
       " -39378.38095111672,\n",
       " -54267.34248261069,\n",
       " -73731.1509389754,\n",
       " -54595.274025606406,\n",
       " -60216.33327752898,\n",
       " -58009.27124002327,\n",
       " -63033.71057102037,\n",
       " -76166.47923564073,\n",
       " -57317.07623494671,\n",
       " -50710.663469446605,\n",
       " -63586.5374519028,\n",
       " -52990.99929365268,\n",
       " -46451.101113876444,\n",
       " 1195.2088808379049,\n",
       " 10726.729256284252,\n",
       " -3740.952627758119,\n",
       " 29460.653187567637,\n",
       " 43126.459804354745,\n",
       " 36956.97624106355,\n",
       " 36151.90979156875,\n",
       " 42057.58970828855,\n",
       " 44730.915833486826,\n",
       " 50004.3479398807,\n",
       " 76652.0100392215,\n",
       " 88948.45187523853,\n",
       " 62631.87162331275,\n",
       " 39698.190286710866,\n",
       " 49288.36893546811,\n",
       " 23843.05501031028,\n",
       " -1802.2563947686467,\n",
       " -22490.791425376097,\n",
       " -6711.449885768638,\n",
       " 14878.754580480356,\n",
       " 22411.60562199494,\n",
       " 8944.64664485711,\n",
       " 45357.29049184895,\n",
       " 48078.25990932291]"
      ]
     },
     "execution_count": 14,
     "metadata": {},
     "output_type": "execute_result"
    }
   ],
   "source": [
    "mean_parameters"
   ]
  }
 ],
 "metadata": {
  "kernelspec": {
   "display_name": "Python 3",
   "language": "python",
   "name": "python3"
  },
  "language_info": {
   "codemirror_mode": {
    "name": "ipython",
    "version": 3
   },
   "file_extension": ".py",
   "mimetype": "text/x-python",
   "name": "python",
   "nbconvert_exporter": "python",
   "pygments_lexer": "ipython3",
   "version": "3.6.2"
  }
 },
 "nbformat": 4,
 "nbformat_minor": 2
}
